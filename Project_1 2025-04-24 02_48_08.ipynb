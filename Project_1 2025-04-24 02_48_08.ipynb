{
 "cells": [
  {
   "cell_type": "code",
   "execution_count": 0,
   "metadata": {
    "application/vnd.databricks.v1+cell": {
     "cellMetadata": {
      "byteLimit": 2048000,
      "rowLimit": 10000
     },
     "inputWidgets": {},
     "nuid": "89317b23-b492-47bb-bdfb-091dfb083ce2",
     "showTitle": false,
     "tableResultSettingsMap": {},
     "title": ""
    }
   },
   "outputs": [
    {
     "output_type": "display_data",
     "data": {
      "text/html": [
       "<style scoped>\n",
       "  .table-result-container {\n",
       "    max-height: 300px;\n",
       "    overflow: auto;\n",
       "  }\n",
       "  table, th, td {\n",
       "    border: 1px solid black;\n",
       "    border-collapse: collapse;\n",
       "  }\n",
       "  th, td {\n",
       "    padding: 5px;\n",
       "  }\n",
       "  th {\n",
       "    text-align: left;\n",
       "  }\n",
       "</style><div class='table-result-container'><table class='table-result'><thead style='background-color: white'><tr><th>Timestamp</th><th>Age</th><th>Gender</th><th>Country</th><th>state</th><th>self_employed</th><th>family_history</th><th>treatment</th><th>work_interfere</th><th>no_employees</th><th>remote_work</th><th>tech_company</th><th>benefits</th><th>care_options</th><th>wellness_program</th><th>seek_help</th><th>anonymity</th><th>leave</th><th>mental_health_consequence</th><th>phys_health_consequence</th><th>coworkers</th><th>supervisor</th><th>mental_health_interview</th><th>phys_health_interview</th><th>mental_vs_physical</th><th>obs_consequence</th><th>comments</th></tr></thead><tbody><tr><td>2014-08-27T11:29:31.000+0000</td><td>37</td><td>Female</td><td>United States</td><td>IL</td><td>NA</td><td>No</td><td>Yes</td><td>Often</td><td>6-25</td><td>No</td><td>Yes</td><td>Yes</td><td>Not sure</td><td>No</td><td>Yes</td><td>Yes</td><td>Somewhat easy</td><td>No</td><td>No</td><td>Some of them</td><td>Yes</td><td>No</td><td>Maybe</td><td>Yes</td><td>No</td><td>NA</td></tr><tr><td>2014-08-27T11:29:37.000+0000</td><td>44</td><td>M</td><td>United States</td><td>IN</td><td>NA</td><td>No</td><td>No</td><td>Rarely</td><td>More than 1000</td><td>No</td><td>No</td><td>Don't know</td><td>No</td><td>Don't know</td><td>Don't know</td><td>Don't know</td><td>Don't know</td><td>Maybe</td><td>No</td><td>No</td><td>No</td><td>No</td><td>No</td><td>Don't know</td><td>No</td><td>NA</td></tr><tr><td>2014-08-27T11:29:44.000+0000</td><td>32</td><td>Male</td><td>Canada</td><td>NA</td><td>NA</td><td>No</td><td>No</td><td>Rarely</td><td>6-25</td><td>No</td><td>Yes</td><td>No</td><td>No</td><td>No</td><td>No</td><td>Don't know</td><td>Somewhat difficult</td><td>No</td><td>No</td><td>Yes</td><td>Yes</td><td>Yes</td><td>Yes</td><td>No</td><td>No</td><td>NA</td></tr><tr><td>2014-08-27T11:29:46.000+0000</td><td>31</td><td>Male</td><td>United Kingdom</td><td>NA</td><td>NA</td><td>Yes</td><td>Yes</td><td>Often</td><td>26-100</td><td>No</td><td>Yes</td><td>No</td><td>Yes</td><td>No</td><td>No</td><td>No</td><td>Somewhat difficult</td><td>Yes</td><td>Yes</td><td>Some of them</td><td>No</td><td>Maybe</td><td>Maybe</td><td>No</td><td>Yes</td><td>NA</td></tr><tr><td>2014-08-27T11:30:22.000+0000</td><td>31</td><td>Male</td><td>United States</td><td>TX</td><td>NA</td><td>No</td><td>No</td><td>Never</td><td>100-500</td><td>Yes</td><td>Yes</td><td>Yes</td><td>No</td><td>Don't know</td><td>Don't know</td><td>Don't know</td><td>Don't know</td><td>No</td><td>No</td><td>Some of them</td><td>Yes</td><td>Yes</td><td>Yes</td><td>Don't know</td><td>No</td><td>NA</td></tr><tr><td>2014-08-27T11:31:22.000+0000</td><td>33</td><td>Male</td><td>United States</td><td>TN</td><td>NA</td><td>Yes</td><td>No</td><td>Sometimes</td><td>6-25</td><td>No</td><td>Yes</td><td>Yes</td><td>Not sure</td><td>No</td><td>Don't know</td><td>Don't know</td><td>Don't know</td><td>No</td><td>No</td><td>Yes</td><td>Yes</td><td>No</td><td>Maybe</td><td>Don't know</td><td>No</td><td>NA</td></tr><tr><td>2014-08-27T11:31:50.000+0000</td><td>35</td><td>Female</td><td>United States</td><td>MI</td><td>NA</td><td>Yes</td><td>Yes</td><td>Sometimes</td><td>1-5</td><td>Yes</td><td>Yes</td><td>No</td><td>No</td><td>No</td><td>No</td><td>No</td><td>Somewhat difficult</td><td>Maybe</td><td>Maybe</td><td>Some of them</td><td>No</td><td>No</td><td>No</td><td>Don't know</td><td>No</td><td>NA</td></tr><tr><td>2014-08-27T11:32:05.000+0000</td><td>39</td><td>M</td><td>Canada</td><td>NA</td><td>NA</td><td>No</td><td>No</td><td>Never</td><td>1-5</td><td>Yes</td><td>Yes</td><td>No</td><td>Yes</td><td>No</td><td>No</td><td>Yes</td><td>Don't know</td><td>No</td><td>No</td><td>No</td><td>No</td><td>No</td><td>No</td><td>No</td><td>No</td><td>NA</td></tr><tr><td>2014-08-27T11:32:39.000+0000</td><td>42</td><td>Female</td><td>United States</td><td>IL</td><td>NA</td><td>Yes</td><td>Yes</td><td>Sometimes</td><td>100-500</td><td>No</td><td>Yes</td><td>Yes</td><td>Yes</td><td>No</td><td>No</td><td>No</td><td>Very difficult</td><td>Maybe</td><td>No</td><td>Yes</td><td>Yes</td><td>No</td><td>Maybe</td><td>No</td><td>No</td><td>NA</td></tr></tbody></table></div>"
      ]
     },
     "metadata": {
      "application/vnd.databricks.v1+output": {
       "addedWidgets": {},
       "aggData": [],
       "aggError": "",
       "aggOverflow": false,
       "aggSchema": [],
       "aggSeriesLimitReached": false,
       "aggType": "",
       "arguments": {},
       "columnCustomDisplayInfos": {},
       "data": [
        [
         "2014-08-27T11:29:31.000+0000",
         37,
         "Female",
         "United States",
         "IL",
         "NA",
         "No",
         "Yes",
         "Often",
         "6-25",
         "No",
         "Yes",
         "Yes",
         "Not sure",
         "No",
         "Yes",
         "Yes",
         "Somewhat easy",
         "No",
         "No",
         "Some of them",
         "Yes",
         "No",
         "Maybe",
         "Yes",
         "No",
         "NA"
        ],
        [
         "2014-08-27T11:29:37.000+0000",
         44,
         "M",
         "United States",
         "IN",
         "NA",
         "No",
         "No",
         "Rarely",
         "More than 1000",
         "No",
         "No",
         "Don't know",
         "No",
         "Don't know",
         "Don't know",
         "Don't know",
         "Don't know",
         "Maybe",
         "No",
         "No",
         "No",
         "No",
         "No",
         "Don't know",
         "No",
         "NA"
        ],
        [
         "2014-08-27T11:29:44.000+0000",
         32,
         "Male",
         "Canada",
         "NA",
         "NA",
         "No",
         "No",
         "Rarely",
         "6-25",
         "No",
         "Yes",
         "No",
         "No",
         "No",
         "No",
         "Don't know",
         "Somewhat difficult",
         "No",
         "No",
         "Yes",
         "Yes",
         "Yes",
         "Yes",
         "No",
         "No",
         "NA"
        ],
        [
         "2014-08-27T11:29:46.000+0000",
         31,
         "Male",
         "United Kingdom",
         "NA",
         "NA",
         "Yes",
         "Yes",
         "Often",
         "26-100",
         "No",
         "Yes",
         "No",
         "Yes",
         "No",
         "No",
         "No",
         "Somewhat difficult",
         "Yes",
         "Yes",
         "Some of them",
         "No",
         "Maybe",
         "Maybe",
         "No",
         "Yes",
         "NA"
        ],
        [
         "2014-08-27T11:30:22.000+0000",
         31,
         "Male",
         "United States",
         "TX",
         "NA",
         "No",
         "No",
         "Never",
         "100-500",
         "Yes",
         "Yes",
         "Yes",
         "No",
         "Don't know",
         "Don't know",
         "Don't know",
         "Don't know",
         "No",
         "No",
         "Some of them",
         "Yes",
         "Yes",
         "Yes",
         "Don't know",
         "No",
         "NA"
        ],
        [
         "2014-08-27T11:31:22.000+0000",
         33,
         "Male",
         "United States",
         "TN",
         "NA",
         "Yes",
         "No",
         "Sometimes",
         "6-25",
         "No",
         "Yes",
         "Yes",
         "Not sure",
         "No",
         "Don't know",
         "Don't know",
         "Don't know",
         "No",
         "No",
         "Yes",
         "Yes",
         "No",
         "Maybe",
         "Don't know",
         "No",
         "NA"
        ],
        [
         "2014-08-27T11:31:50.000+0000",
         35,
         "Female",
         "United States",
         "MI",
         "NA",
         "Yes",
         "Yes",
         "Sometimes",
         "1-5",
         "Yes",
         "Yes",
         "No",
         "No",
         "No",
         "No",
         "No",
         "Somewhat difficult",
         "Maybe",
         "Maybe",
         "Some of them",
         "No",
         "No",
         "No",
         "Don't know",
         "No",
         "NA"
        ],
        [
         "2014-08-27T11:32:05.000+0000",
         39,
         "M",
         "Canada",
         "NA",
         "NA",
         "No",
         "No",
         "Never",
         "1-5",
         "Yes",
         "Yes",
         "No",
         "Yes",
         "No",
         "No",
         "Yes",
         "Don't know",
         "No",
         "No",
         "No",
         "No",
         "No",
         "No",
         "No",
         "No",
         "NA"
        ],
        [
         "2014-08-27T11:32:39.000+0000",
         42,
         "Female",
         "United States",
         "IL",
         "NA",
         "Yes",
         "Yes",
         "Sometimes",
         "100-500",
         "No",
         "Yes",
         "Yes",
         "Yes",
         "No",
         "No",
         "No",
         "Very difficult",
         "Maybe",
         "No",
         "Yes",
         "Yes",
         "No",
         "Maybe",
         "No",
         "No",
         "NA"
        ]
       ],
       "datasetInfos": [],
       "dbfsResultPath": null,
       "isJsonSchema": true,
       "metadata": {},
       "overflow": false,
       "plotOptions": {
        "customPlotOptions": {},
        "displayType": "table",
        "pivotAggregation": null,
        "pivotColumns": null,
        "xColumns": null,
        "yColumns": null
       },
       "removedWidgets": [],
       "schema": [
        {
         "metadata": "{}",
         "name": "Timestamp",
         "type": "\"timestamp\""
        },
        {
         "metadata": "{}",
         "name": "Age",
         "type": "\"integer\""
        },
        {
         "metadata": "{}",
         "name": "Gender",
         "type": "\"string\""
        },
        {
         "metadata": "{}",
         "name": "Country",
         "type": "\"string\""
        },
        {
         "metadata": "{}",
         "name": "state",
         "type": "\"string\""
        },
        {
         "metadata": "{}",
         "name": "self_employed",
         "type": "\"string\""
        },
        {
         "metadata": "{}",
         "name": "family_history",
         "type": "\"string\""
        },
        {
         "metadata": "{}",
         "name": "treatment",
         "type": "\"string\""
        },
        {
         "metadata": "{}",
         "name": "work_interfere",
         "type": "\"string\""
        },
        {
         "metadata": "{}",
         "name": "no_employees",
         "type": "\"string\""
        },
        {
         "metadata": "{}",
         "name": "remote_work",
         "type": "\"string\""
        },
        {
         "metadata": "{}",
         "name": "tech_company",
         "type": "\"string\""
        },
        {
         "metadata": "{}",
         "name": "benefits",
         "type": "\"string\""
        },
        {
         "metadata": "{}",
         "name": "care_options",
         "type": "\"string\""
        },
        {
         "metadata": "{}",
         "name": "wellness_program",
         "type": "\"string\""
        },
        {
         "metadata": "{}",
         "name": "seek_help",
         "type": "\"string\""
        },
        {
         "metadata": "{}",
         "name": "anonymity",
         "type": "\"string\""
        },
        {
         "metadata": "{}",
         "name": "leave",
         "type": "\"string\""
        },
        {
         "metadata": "{}",
         "name": "mental_health_consequence",
         "type": "\"string\""
        },
        {
         "metadata": "{}",
         "name": "phys_health_consequence",
         "type": "\"string\""
        },
        {
         "metadata": "{}",
         "name": "coworkers",
         "type": "\"string\""
        },
        {
         "metadata": "{}",
         "name": "supervisor",
         "type": "\"string\""
        },
        {
         "metadata": "{}",
         "name": "mental_health_interview",
         "type": "\"string\""
        },
        {
         "metadata": "{}",
         "name": "phys_health_interview",
         "type": "\"string\""
        },
        {
         "metadata": "{}",
         "name": "mental_vs_physical",
         "type": "\"string\""
        },
        {
         "metadata": "{}",
         "name": "obs_consequence",
         "type": "\"string\""
        },
        {
         "metadata": "{}",
         "name": "comments",
         "type": "\"string\""
        }
       ],
       "type": "table"
      }
     },
     "output_type": "display_data"
    }
   ],
   "source": [
    "df = (spark.read\n",
    "            .format(\"csv\")\n",
    "            .option(\"header\", \"true\")\n",
    "            .option(\"inferSchema\", \"true\")\n",
    "            .load(\"/FileStore/sampledata/sample.csv\"))\n",
    "\n",
    "display(df)"
   ]
  }
 ],
 "metadata": {
  "application/vnd.databricks.v1+notebook": {
   "computePreferences": null,
   "dashboards": [],
   "environmentMetadata": {
    "base_environment": "",
    "environment_version": "1"
   },
   "inputWidgetPreferences": null,
   "language": "python",
   "notebookMetadata": {
    "pythonIndentUnit": 4
   },
   "notebookName": "Project_1 2025-04-24 02:48:08",
   "widgets": {}
  }
 },
 "nbformat": 4,
 "nbformat_minor": 0
}